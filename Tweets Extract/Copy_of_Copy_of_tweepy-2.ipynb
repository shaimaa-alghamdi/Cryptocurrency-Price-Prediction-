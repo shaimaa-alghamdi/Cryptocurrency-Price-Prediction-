{
  "cells": [
    {
      "cell_type": "code",
      "execution_count": null,
      "metadata": {
        "colab": {
          "base_uri": "https://localhost:8080/"
        },
        "id": "TuUhwyh7ZPag",
        "outputId": "904e1f47-0916-4cca-d349-623e1fc56abe"
      },
      "outputs": [
        {
          "name": "stdout",
          "output_type": "stream",
          "text": [
            "Requirement already satisfied: tweepy in /usr/local/lib/python3.7/dist-packages (3.10.0)\n",
            "Requirement already satisfied: requests[socks]>=2.11.1 in /usr/local/lib/python3.7/dist-packages (from tweepy) (2.23.0)\n",
            "Requirement already satisfied: six>=1.10.0 in /usr/local/lib/python3.7/dist-packages (from tweepy) (1.15.0)\n",
            "Requirement already satisfied: requests-oauthlib>=0.7.0 in /usr/local/lib/python3.7/dist-packages (from tweepy) (1.3.1)\n",
            "Requirement already satisfied: oauthlib>=3.0.0 in /usr/local/lib/python3.7/dist-packages (from requests-oauthlib>=0.7.0->tweepy) (3.2.0)\n",
            "Requirement already satisfied: certifi>=2017.4.17 in /usr/local/lib/python3.7/dist-packages (from requests[socks]>=2.11.1->tweepy) (2021.10.8)\n",
            "Requirement already satisfied: urllib3!=1.25.0,!=1.25.1,<1.26,>=1.21.1 in /usr/local/lib/python3.7/dist-packages (from requests[socks]>=2.11.1->tweepy) (1.24.3)\n",
            "Requirement already satisfied: chardet<4,>=3.0.2 in /usr/local/lib/python3.7/dist-packages (from requests[socks]>=2.11.1->tweepy) (3.0.4)\n",
            "Requirement already satisfied: idna<3,>=2.5 in /usr/local/lib/python3.7/dist-packages (from requests[socks]>=2.11.1->tweepy) (2.10)\n",
            "Requirement already satisfied: PySocks!=1.5.7,>=1.5.6 in /usr/local/lib/python3.7/dist-packages (from requests[socks]>=2.11.1->tweepy) (1.7.1)\n"
          ]
        }
      ],
      "source": [
        "!pip install tweepy"
      ]
    },
    {
      "cell_type": "code",
      "execution_count": null,
      "metadata": {
        "id": "qLMRrs47ZTFz"
      },
      "outputs": [],
      "source": [
        "import tweepy\n",
        "\n",
        "ACCESS_TOKEN = '1349401085870530561-0TL9PYTH3JbeHiJhvkfy1UYQJ3xPo0'\n",
        "ACCESS_SECRET = 'lFblbG1TzimrrCIgbnYz0IcrXRtA0Bg1AD6hMYNjLGLEi'\n",
        "CONSUMER_KEY = 'sHrB7WDZeSCpOJz5VB4ga2g2a'\n",
        "CONSUMER_SECRET = '8LDbWggH9btgyj3x3HnUYNRKFgKW0ue8C7aleV29mXrmbRZ5b0'\n",
        "\n",
        "def connect_to_twitter_OAuth():\n",
        "    auth = tweepy.OAuthHandler(CONSUMER_KEY, CONSUMER_SECRET)\n",
        "    auth.set_access_token(ACCESS_TOKEN, ACCESS_SECRET)\n",
        "\n",
        "    api = tweepy.API(auth,wait_on_rate_limit=True)\n",
        "    return api\n",
        "\n",
        "\n",
        "# Create API object\n",
        "api = connect_to_twitter_OAuth()"
      ]
    },
    {
      "cell_type": "code",
      "execution_count": null,
      "metadata": {
        "colab": {
          "base_uri": "https://localhost:8080/"
        },
        "id": "4Ll3DZH_Z8XO",
        "outputId": "f0b0c24c-65a4-4a3f-c98c-53fef01098e2"
      },
      "outputs": [
        {
          "data": {
            "text/plain": [
              "<tweepy.api.API at 0x7f960252e550>"
            ]
          },
          "execution_count": 4,
          "metadata": {},
          "output_type": "execute_result"
        }
      ],
      "source": [
        "api"
      ]
    },
    {
      "cell_type": "code",
      "execution_count": null,
      "metadata": {
        "colab": {
          "base_uri": "https://localhost:8080/",
          "height": 35
        },
        "id": "wb0475scheSx",
        "outputId": "577336e1-1714-43f8-e3fc-2cbf56e1ab05"
      },
      "outputs": [
        {
          "data": {
            "application/vnd.google.colaboratory.intrinsic+json": {
              "type": "string"
            },
            "text/plain": [
              "'2022-01-01'"
            ]
          },
          "execution_count": 5,
          "metadata": {},
          "output_type": "execute_result"
        }
      ],
      "source": [
        "from datetime import datetime,timedelta\n",
        "start_date = datetime.strptime('2022-01-01', '%Y-%m-%d')\n",
        "str(start_date).split()[0]"
      ]
    },
    {
      "cell_type": "code",
      "execution_count": null,
      "metadata": {
        "colab": {
          "base_uri": "https://localhost:8080/"
        },
        "id": "aX1bM2_Z8b2e",
        "outputId": "b57185e1-79db-4714-b21a-7e5cc0719b20"
      },
      "outputs": [
        {
          "name": "stdout",
          "output_type": "stream",
          "text": [
            "2022-01-08 00:00:00\n",
            "2022-01-15 00:00:00\n",
            "2022-01-22 00:00:00\n",
            "2022-01-29 00:00:00\n",
            "2022-02-05 00:00:00\n",
            "2022-02-12 00:00:00\n",
            "2022-02-19 00:00:00\n"
          ]
        }
      ],
      "source": [
        "msgs = []\n",
        "user_names = []\n",
        "created_date = []\n",
        "url = []\n",
        "date = start_date\n",
        "while date < datetime.strptime('2022-05-09', '%Y-%m-%d') :\n",
        "  \n",
        "  for tweet in tweepy.Cursor(api.search, q=['#Ethereum OR #ETH OR #Etherum OR Ethereum OR ETH OR Etherum'],lang='en',\n",
        "                            since_id=str(date).split()[0],\n",
        "                             \n",
        "            tweet_mode='extended'        ).items(2000):\n",
        "                         \n",
        "      \n",
        "\n",
        "    try:\n",
        "      a = api.get_status(tweet.retweeted_status.id, tweet_mode='extended')\n",
        "      msgs.append(a.full_text)\n",
        "      \n",
        "      user_names.append(a.user.name)\n",
        "      created_date.append(a.created_at)\n",
        "      url.append(a.source_url)\n",
        "\n",
        "    except:\n",
        "      try:\n",
        "        a = api.get_status(tweet.id, tweet_mode='extended')\n",
        "\n",
        "        msgs.append(a.full_text)\n",
        "        user_names.append(a.user.name)\n",
        "        created_date.append(a.created_at)\n",
        "        url.append(a.source_url)\n",
        "      except:\n",
        "        pass\n",
        "  date = date + timedelta(days=7)\n",
        "  print(date)\n",
        "\n"
      ]
    },
    {
      "cell_type": "code",
      "execution_count": null,
      "metadata": {
        "id": "h-8aMGDsHpLP"
      },
      "outputs": [],
      "source": [
        "from google.colab import drive\n",
        "drive.mount('/content/drive')"
      ]
    },
    {
      "cell_type": "code",
      "execution_count": null,
      "metadata": {
        "id": "MFWiAQJ7cE_y"
      },
      "outputs": [],
      "source": [
        "import pandas as pd\n",
        "\n",
        "df = pd.DataFrame(data={'user_name':user_names,'created_data':created_date,'url':url,'tweet':msgs})\n",
        "df.head()"
      ]
    },
    {
      "cell_type": "code",
      "execution_count": null,
      "metadata": {
        "id": "Z_FbkdOD_QjV"
      },
      "outputs": [],
      "source": [
        "df"
      ]
    },
    {
      "cell_type": "code",
      "execution_count": null,
      "metadata": {
        "id": "j2wMFbeV_AGa"
      },
      "outputs": [],
      "source": [
        "df.drop_duplicates()"
      ]
    },
    {
      "cell_type": "code",
      "execution_count": null,
      "metadata": {
        "id": "AWVMaZaXmIbh"
      },
      "outputs": [],
      "source": [
        "df.drop_duplicates().to_csv('tweets2.csv')"
      ]
    },
    {
      "cell_type": "code",
      "execution_count": null,
      "metadata": {
        "id": "08P3-twkDNCk"
      },
      "outputs": [],
      "source": [
        "!cp 'tweets2.csv' '/content/drive/MyDrive'"
      ]
    }
  ],
  "metadata": {
    "colab": {
      "collapsed_sections": [],
      "name": "Copy of Copy_of_tweepy.ipynb",
      "provenance": []
    },
    "kernelspec": {
      "display_name": "Python 3",
      "name": "python3"
    },
    "language_info": {
      "name": "python"
    }
  },
  "nbformat": 4,
  "nbformat_minor": 0
}
